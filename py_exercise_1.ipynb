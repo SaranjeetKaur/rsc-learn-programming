{
  "nbformat": 4,
  "nbformat_minor": 0,
  "metadata": {
    "colab": {
      "provenance": [],
      "authorship_tag": "ABX9TyPku5HAlmOBETi24HtAF5V1",
      "include_colab_link": true
    },
    "kernelspec": {
      "name": "python3",
      "display_name": "Python 3"
    },
    "language_info": {
      "name": "python"
    }
  },
  "cells": [
    {
      "cell_type": "markdown",
      "metadata": {
        "id": "view-in-github",
        "colab_type": "text"
      },
      "source": [
        "<a href=\"https://colab.research.google.com/github/SaranjeetKaur/rsc-learn-programming/blob/main/py_exercise_1.ipynb\" target=\"_parent\"><img src=\"https://colab.research.google.com/assets/colab-badge.svg\" alt=\"Open In Colab\"/></a>"
      ]
    },
    {
      "cell_type": "markdown",
      "source": [
        "In this exercise we will be learning terms like variable name, assignment operators, some mathematical operations, and the 'print' statement."
      ],
      "metadata": {
        "id": "CPeOviI5jgx6"
      }
    },
    {
      "cell_type": "code",
      "source": [
        "x = 5\n",
        "y = 3"
      ],
      "metadata": {
        "id": "U6FLbNPhjxCB"
      },
      "execution_count": 1,
      "outputs": []
    },
    {
      "cell_type": "markdown",
      "source": [
        "'x' and 'y' are variable names. '=' is an assignment operator which assigns the value on its right to the variable name on its left."
      ],
      "metadata": {
        "id": "grAc-ck6j4gh"
      }
    },
    {
      "cell_type": "code",
      "source": [
        "add = x + y\n",
        "print(add)"
      ],
      "metadata": {
        "colab": {
          "base_uri": "https://localhost:8080/"
        },
        "id": "7QoUf4OHkQUU",
        "outputId": "3dc7d071-080a-42f7-9097-5386006a3bfc"
      },
      "execution_count": 3,
      "outputs": [
        {
          "output_type": "stream",
          "name": "stdout",
          "text": [
            "8\n"
          ]
        }
      ]
    },
    {
      "cell_type": "markdown",
      "source": [
        "The above cell we perform addition of x and y and store the value in the variable 'add'. Then we print it using 'print'."
      ],
      "metadata": {
        "id": "55buiXMskkZj"
      }
    },
    {
      "cell_type": "code",
      "source": [],
      "metadata": {
        "id": "o4WjRMndk1mk"
      },
      "execution_count": null,
      "outputs": []
    }
  ]
}